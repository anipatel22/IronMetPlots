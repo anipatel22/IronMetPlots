{
  "nbformat": 4,
  "nbformat_minor": 0,
  "metadata": {
    "colab": {
      "name": "iso_metplotter.ipynb",
      "provenance": [],
      "authorship_tag": "ABX9TyMNXF2m7jxNIAiusIiDSKKi",
      "include_colab_link": true
    },
    "kernelspec": {
      "name": "python3",
      "display_name": "Python 3"
    },
    "language_info": {
      "name": "python"
    }
  },
  "cells": [
    {
      "cell_type": "markdown",
      "metadata": {
        "id": "view-in-github",
        "colab_type": "text"
      },
      "source": [
        "<a href=\"https://colab.research.google.com/github/anipatel22/IronMetPlots/blob/main/iso_metplotter.ipynb\" target=\"_parent\"><img src=\"https://colab.research.google.com/assets/colab-badge.svg\" alt=\"Open In Colab\"/></a>"
      ]
    },
    {
      "cell_type": "markdown",
      "source": [
        "This file is for plotting Mo or other isotopes, with NC-CC bodies. This must be used with excel file IronMetIsoData.xlsx. See metplotter.ipynb for more details and explantions about the code. This notebook uses the same format of code as that notebook."
      ],
      "metadata": {
        "id": "F9IidPx7494r"
      }
    },
    {
      "cell_type": "markdown",
      "source": [
        "# Import packages"
      ],
      "metadata": {
        "id": "IBdYQ9Rx6hjk"
      }
    },
    {
      "cell_type": "code",
      "source": [
        "import matplotlib.pyplot as plt\n",
        "import pandas as pd\n",
        "from numpy import *"
      ],
      "metadata": {
        "id": "Bkqflnqr6oN_"
      },
      "execution_count": null,
      "outputs": []
    },
    {
      "cell_type": "markdown",
      "source": [
        "# Read + store data from excel"
      ],
      "metadata": {
        "id": "Mno9XOq24orF"
      }
    },
    {
      "cell_type": "code",
      "source": [
        "xls = pd.ExcelFile('IronMetIsoData.xlsx')\n",
        "\n",
        "# data from Spitzer 2020\n",
        "\n",
        "dfMo = pd.read_excel(xls,'Mo')\n",
        "IcMo = dfMo['IC']\n",
        "ErrIcMo = dfMo['± 95% CI (IC)']\n",
        "IIabMo = dfMo['IIAB']\n",
        "ErrIIabMo = dfMo['± 95% CI (IIAB)']\n",
        "IIdMo = dfMo['IID']\n",
        "ErrIIdMo = dfMo['± 95% CI (IID)']\n",
        "IIIabMo = dfMo['IIIAB']\n",
        "ErrIIIabMo = dfMo['± 95% CI (IIIAB)']\n",
        "IIIeMo = dfMo['IIIE']\n",
        "ErrIIIeMo = dfMo['± 95% CI (IIIE)']\n",
        "\n",
        "# only have Mo94 and Mo95 data\n",
        "IabMo = dfMo['IAB']\n",
        "ErrIabMo = dfMo['± 95% CI (IAB)']\n",
        "IIcMo = dfMo['IIC']\n",
        "ErrIIcMo = dfMo['± 95% CI (IIC)']\n",
        "IIeMo = dfMo['IIE']\n",
        "ErrIIeMo = dfMo['± 95% CI (IIE)']\n",
        "IIfMo = dfMo['IIF']\n",
        "ErrIIfMo = dfMo['± 95% CI (IIF)']\n",
        "IIIfMo = dfMo['IIIF']\n",
        "ErrIIIfMo = dfMo['± 95% CI (IIIF)']\n",
        "IVaMo = dfMo['IVA']\n",
        "ErrIVaMo = dfMo['± 95% CI (IVA)']\n",
        "IVbMo = dfMo['IVB']\n",
        "ErrIVbMo = dfMo['± 95% CI (IVB)']\n",
        "\n",
        "sirjMo = [99, 61, 40.5, 29.5, 21]\n",
        "sirjMo = [i/100 for i in sirjMo]\n",
        "ErrSirjMo = [70, 16, 9, 7, 29]\n",
        "ErrSirjMo = [i/100 for i in ErrSirjMo]\n",
        "\n",
        "nedMo = dfMo['Nedagolla']\n",
        "ErrNedMo = dfMo['± 95% CI (Ned)']\n",
        "\n",
        "mdMo = dfMo['Mont Dieu']\n",
        "ErrMdMo = dfMo['± 95% CI (MD)']\n",
        "\n",
        "nedUncorr = [.64, .545, .32, .16, .10]\n",
        "ErrNedUncorr = [.1, .075, .06, .06, .06]\n"
      ],
      "metadata": {
        "id": "Q_ZqILSy4tTu"
      },
      "execution_count": null,
      "outputs": []
    },
    {
      "cell_type": "markdown",
      "source": [
        "# Mo94 - Mo95 plot"
      ],
      "metadata": {
        "id": "BagYjRz25N0X"
      }
    },
    {
      "cell_type": "code",
      "source": [
        "isotope = ['\\u03B5$^{92}$Mo', '\\u03B5$^{94}$Mo', '\\u03B5$^{95}$Mo', '\\u03B5$^{97}$Mo', '\\u03B5$^{100}$Mo']  "
      ],
      "metadata": {
        "id": "_8y11n4k5Z0-"
      },
      "execution_count": null,
      "outputs": []
    },
    {
      "cell_type": "markdown",
      "source": [
        "settings"
      ],
      "metadata": {
        "id": "kRYGh6jM5VWG"
      }
    },
    {
      "cell_type": "code",
      "source": [
        "# plt.rc('font', family='calibri')\n",
        "plt.rcParams[\"figure.figsize\"] = [5, 5]\n",
        "plt.rcParams[\"figure.autolayout\"] = True\n",
        "plt.rc('axes', labelsize=15)\n",
        "plt.rc('xtick', labelsize= 15)\n",
        "plt.rc('ytick', labelsize= 13)\n",
        "plt.rc('legend', fontsize= 13) "
      ],
      "metadata": {
        "id": "QS_Huv4Z5SLy"
      },
      "execution_count": null,
      "outputs": []
    },
    {
      "cell_type": "code",
      "source": [
        "fig = plt.figure()\n",
        "\n",
        "ax = fig.add_subplot()\n",
        "\n",
        "ax.tick_params(axis=\"y\",direction=\"in\")\n",
        "ax.tick_params(axis=\"x\",direction=\"in\")\n",
        "\n",
        "ax.set_xlabel('\\u03B5$^{94}$Mo')\n",
        "ax.set_ylabel('\\u03B5$^{95}$Mo')\n",
        "\n",
        "ax.errorbar(IcMo[1], IcMo[2], xerr = ErrIcMo[1], yerr = ErrIcMo[2], color = 'red', marker = 'D', markersize = '8', label = 'IC')\n",
        "ax.errorbar(IIabMo[1], IIabMo[2], xerr = ErrIIabMo[1], yerr = ErrIIabMo[2], color = 'red', marker = 's', markersize = '8', label = 'IIAB')\n",
        "ax.errorbar(IIIabMo[1], IIIabMo[2], xerr = ErrIIIabMo[1], yerr = ErrIIIabMo[2], color = 'red', marker = 'o', markersize = '8', label = 'IIIAB')\n",
        "ax.errorbar(IIIeMo[1], IIIeMo[2], xerr = ErrIIIeMo[1], yerr = ErrIIIeMo[2], color = 'red', marker = 's', markersize = '8', label = 'IIIE')\n",
        "ax.errorbar(IVaMo[1], IVaMo[2], xerr = ErrIVaMo[1], yerr = ErrIVaMo[2], color = 'red', marker = '^', markersize = '8', label = 'IVA')\n",
        "\n",
        "ax.errorbar(IIcMo[1], IIcMo[2], xerr = ErrIIcMo[1], yerr = ErrIIcMo[2], color = 'blue', marker = '>', markersize = '8', label = 'IIC')\n",
        "ax.errorbar(IIdMo[1], IIdMo[2], xerr = ErrIIdMo[1], yerr = ErrIIdMo[2], color = 'blue', marker = 'v', markersize = '8', label = 'IID')\n",
        "ax.errorbar(IIfMo[1], IIfMo[2], xerr = ErrIIfMo[1], yerr = ErrIIfMo[2], color = 'blue', marker = 'o', markersize = '8', label = 'IIF')\n",
        "ax.errorbar(IIIfMo[1], IIIfMo[2], xerr = ErrIIIfMo[1], yerr = ErrIIIfMo[2], color = 'blue', marker = '^', markersize = '8', label = 'IIIF')\n",
        "ax.errorbar(IVbMo[1], IVbMo[2], xerr = ErrIVbMo[1], yerr = ErrIVbMo[2], color = 'blue', marker = 'D', markersize = '8', label = 'IVB')\n",
        "\n",
        "\n",
        "ax.errorbar(sirjMo[1], sirjMo[2], xerr = ErrSirjMo[1], yerr = ErrSirjMo[2], color = 'black', marker = 'p', markersize = '10', label = 'Sirjan')\n",
        "ax.errorbar(nedMo[1], nedMo[2], xerr = ErrNedMo[1], yerr = ErrNedMo[2], color = 'orange', marker = 'p', markersize = '10', label = 'Nedagolla')\n",
        "# ax.errorbar(mdMo[1], mdMo[2], xerr = ErrMdMo[1], yerr = ErrMdMo[2], color = 'green', marker = 'p', markersize = '10', label = 'Mont Dieu')\n",
        "# ax.plot(x, y, color = 'r', alpha =0.7)\n",
        "\n",
        "ax.legend(numpoints = 1, loc = 'best',fontsize = 7, markerscale =0.8)\n",
        "# plt.savefig(\"Mo94_95.pdf\",format='pdf')\n",
        "plt.show()"
      ],
      "metadata": {
        "colab": {
          "base_uri": "https://localhost:8080/",
          "height": 369
        },
        "id": "qslooB3O5gIi",
        "outputId": "fece8ca4-39a7-42df-8952-f6e5e1be7214"
      },
      "execution_count": null,
      "outputs": [
        {
          "output_type": "display_data",
          "data": {
            "text/plain": [
              "<Figure size 360x360 with 1 Axes>"
            ],
            "image/png": "[encoded data removed]"
          },
          "metadata": {
            "needs_background": "light"
          }
        }
      ]
    },
    {
      "cell_type": "markdown",
      "source": [
        "# Mo Isotope Spidergram"
      ],
      "metadata": {
        "id": "1N3L3dVy5o4Y"
      }
    },
    {
      "cell_type": "code",
      "source": [
        "fig = plt.figure(figsize=(6,5))\n",
        "# plt.style.use('classic')\n",
        "ax = fig.add_subplot()\n",
        "\n",
        "ax.tick_params(which = 'both', right=True, top=True, axis=\"y\",direction=\"in\")\n",
        "ax.tick_params(which = 'both', right=True, top=True, axis=\"x\",direction=\"in\")\n",
        "\n",
        "\n",
        "# ax.errorbar(isotope, IcMo, yerr = ErrIcMo, color = 'red', marker = 'D', markersize = '8', alpha =0.7, label = 'IC')\n",
        "# ax.errorbar(isotope, IIabMo, yerr = ErrIIabMo, color = 'red', marker = 's', markersize = '8', alpha =0.7, label = 'IIAB')\n",
        "# ax.errorbar(isotope, IIIabMo,yerr = ErrIIIabMo, color = 'red', marker = 'o', markersize = '8', alpha =0.7, label = 'IIIAB')\n",
        "# ax.errorbar(isotope, IIIeMo, yerr = ErrIIIeMo, color = 'red', marker = 's', markersize = '8', alpha =0.7, label = 'IIIE')\n",
        "# ax.errorbar(isotope, IVaMo, yerr = ErrIVaMo, color = 'red', marker = '^', markersize = '8', alpha =0.7, label = 'IVA')\n",
        "\n",
        "# ax.errorbar(isotope, IIcMo, yerr = ErrIIcMo, color = 'blue', marker = '>', markersize = '8', alpha =0.7, label = 'IIC')\n",
        "# ax.errorbar(isotope, IIdMo, yerr = ErrIIdMo, color = 'blue', marker = 'v', markersize = '8', alpha =0.7, label = 'IID')\n",
        "# ax.errorbar(isotope, IIfMo, yerr = ErrIIfMo, color = 'blue', marker = 'o', markersize = '8', alpha =0.7, label = 'IIF')\n",
        "# ax.errorbar(isotope, IIIfMo, yerr = ErrIIIfMo, color = 'blue', marker = '^', markersize = '8', alpha =0.7, label = 'IIIF')\n",
        "# ax.errorbar(isotope, IVbMo, yerr = ErrIVbMo, color = 'blue', marker = 'D', markersize = '8', alpha =0.7, label = 'IVB')\n",
        "\n",
        "# for converting into mu units frome epsilon. Note, if you want to onclude NC-CC, you have to write similar code for the lists containing NC CC data.\n",
        "# sirjMo = [i*100 for i in sirjMo]\n",
        "# ErrSirjMo = [i*100 for i in ErrSirjMo]\n",
        "# nedMo = [i*100 for i in nedMo]\n",
        "# ErrNedMo = [i*100 for i in ErrNedMo]\n",
        "\n",
        "\n",
        "# isotope = ['\\u03bc$^{92}$Mo', '\\u03bc$^{94}$Mo', '\\u03bc$^{95}$Mo', '\\u03bc$^{97}$Mo', '\\u03bc$^{100}$Mo']\n",
        "ax.errorbar(isotope, sirjMo, yerr = ErrSirjMo, color = 'darkorange', marker = '^', markersize = '10', markeredgewidth = 1., markeredgecolor = 'black', label = 'Sirjan 001')\n",
        "ax.errorbar(isotope, nedMo, yerr = ErrNedMo, color = 'green', marker = 'D', markersize = '8', markeredgewidth = 1., markeredgecolor = 'black', label = 'Nedagolla (UG)')\n",
        "# ax.errorbar(isotope, mdMo, yerr = ErrMdMo, color = 'green', marker = 'p', markersize = '10', alpha = 0.8, label = 'Mont Dieu')\n",
        "# plt.ylabel('\\u03bc - deviation')\n",
        "# plt.axhline(y = 0, color = 'gray')\n",
        "# plt.xticks(fontsize=16)\n",
        "# ax.set_ylim(0,120)\n",
        "# for t in ax.get_xticklabels():\n",
        "    # t.set_fontstyle('italic')\n",
        "leg = plt.legend(numpoints = 1, loc = 'best', markerscale =1., frameon=False)\n",
        "plt.savefig(\"MoIso.pdf\",format='pdf')\n",
        "\n",
        "plt.show()"
      ],
      "metadata": {
        "colab": {
          "base_uri": "https://localhost:8080/",
          "height": 369
        },
        "id": "BZ95Umdp5tXE",
        "outputId": "bd5847ed-74ac-424c-abd7-df7770bb1904"
      },
      "execution_count": null,
      "outputs": [
        {
          "output_type": "display_data",
          "data": {
            "text/plain": [
              "<Figure size 432x360 with 1 Axes>"
            ],
            "image/png": "[encoded data removed]"
          },
          "metadata": {
            "needs_background": "light"
          }
        }
      ]
    }
  ]
}