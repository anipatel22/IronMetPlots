{
  "nbformat": 4,
  "nbformat_minor": 0,
  "metadata": {
    "colab": {
      "name": "Wtime_metplotter.ipynb",
      "provenance": [],
      "authorship_tag": "ABX9TyPVc8fLIzKUEui7XiEJ3eDr",
      "include_colab_link": true
    },
    "kernelspec": {
      "name": "python3",
      "display_name": "Python 3"
    },
    "language_info": {
      "name": "python"
    }
  },
  "cells": [
    {
      "cell_type": "markdown",
      "metadata": {
        "id": "view-in-github",
        "colab_type": "text"
      },
      "source": [
        "<a href=\"https://colab.research.google.com/github/anipatel22/IronMetPlots/blob/main/Wtime_metplotter.ipynb\" target=\"_parent\"><img src=\"https://colab.research.google.com/assets/colab-badge.svg\" alt=\"Open In Colab\"/></a>"
      ]
    },
    {
      "cell_type": "markdown",
      "source": [
        "This file is for plotting W isotopes, with NC-CC bodies. This is a stand alone file - doesn't read data from excel. All the relevamt data is inputted manually."
      ],
      "metadata": {
        "id": "F9IidPx7494r"
      }
    },
    {
      "cell_type": "markdown",
      "source": [
        "# Import packages"
      ],
      "metadata": {
        "id": "IBdYQ9Rx6hjk"
      }
    },
    {
      "cell_type": "code",
      "source": [
        "import matplotlib.pyplot as plt"
      ],
      "metadata": {
        "id": "Bkqflnqr6oN_"
      },
      "execution_count": null,
      "outputs": []
    },
    {
      "cell_type": "markdown",
      "source": [
        "# Input data"
      ],
      "metadata": {
        "id": "Mno9XOq24orF"
      }
    },
    {
      "cell_type": "code",
      "source": [
        "# Radiochronology data for NC and CC groups from Kruijer et al. 2017, supplemental info (table s5) \n",
        "# Corresponding time since CAI formation included\n",
        "\n",
        "# ==============================================\n",
        "# epsilon W-182 preexposure\n",
        "\n",
        "# NC\n",
        "IC_w182 = -3.45\n",
        "ErrIC_w182 = .04\n",
        "IIAB_w182 = -3.40\n",
        "ErrIIAB_w182 = .03\n",
        "IIE_w182 = - 2.527272727\n",
        "ErrIIE_w182 = 0.11\n",
        "IIIAB_w182 = -3.35\n",
        "ErrIIIAB_w182 = .03\n",
        "IIIE_w182 = -3.28\n",
        "ErrIIIE_w182 = .06\n",
        "IVA_w182 = -3.32\n",
        "ErrIVA_w182 = .05\n",
        "# CC ------------------\n",
        "IIC_w182 = -3.2\n",
        "ErrIIC_w182 = .12\n",
        "IID_w182 = -3.23\n",
        "ErrIID_w182 = .04\n",
        "IIF_w182 = -3.21\n",
        "ErrIIF_w182 = .05\n",
        "IIIF_w182 = -3.24\n",
        "ErrIIIF_w182 = .1\n",
        "IVB_w182 = -3.18\n",
        "ErrIVB_w182 = .05\n",
        "\n",
        "# ==============================================\n",
        "#  epsilon W-183\n",
        "\n",
        "# NC\n",
        "IC_w183 = -0.05\n",
        "ErrIC_w183 = .02\n",
        "IIAB_w183 = -0.02\n",
        "ErrIIAB_w183 = .02\n",
        "IIE_w183 = - -0.095\n",
        "ErrIIE_w183 = 0.04636363636\n",
        "IIIAB_w183 = -0.03\n",
        "ErrIIIAB_w183 = .02\n",
        "IIIE_w183 = -0.05\n",
        "ErrIIIE_w183 = .04\n",
        "IVA_w183 = 0.\n",
        "ErrIVA_w183 = .07\n",
        "# CC ------------------\n",
        "IIC_w183 = 0.30\n",
        "ErrIIC_w183 = .04\n",
        "IID_w183 = 0.13\n",
        "ErrIID_w183 = .01\n",
        "IIF_w183 = 0.09\n",
        "ErrIIF_w183 = .02\n",
        "IIIF_w183 = 0.08\n",
        "ErrIIIF_w183 = .07\n",
        "IVB_w183 = 0.13\n",
        "ErrIVB_w183 = .02\n",
        "\n",
        "# ==============================================\n",
        "#  time since CAI\n",
        "\n",
        "# NC\n",
        "IC_dT = 0.3\n",
        "IIAB_dT = 0.8\n",
        "IIE_dT = 10.96\n",
        "IIIAB_dT = 1.2\n",
        "IIIE_dT = 1.8\n",
        "IVA_dT = 1.5\n",
        "# CC ------------------\n",
        "IIC_dT = 2.6\n",
        "IID_dT = 2.3\n",
        "IIF_dT = 2.5\n",
        "IIIF_dT = 2.2\n",
        "IVB_dT = 2.8\n",
        "\n",
        "# ==============================================\n",
        "# Sirjan data\n",
        "\n",
        "sirj_w182 = -2.962\n",
        "ErrSirj_w182 = .045\n",
        "\n",
        "sirj_w183 = -.013\n",
        "ErrSirj_w183 = .040\n",
        "\n",
        "sirj_dT = 5.2\n",
        "ErrSirj_dT = .4\n",
        "\n",
        "\n",
        "# ==============================================\n",
        "# Mont Dieu data\n",
        "\n",
        "md_w182 = -2.96\n",
        "ErrMd_w182 = .1\n",
        "\n",
        "md_w183 = -.013\n",
        "ErrMd_w183 = .03\n",
        "\n",
        "md_dT = 5.2\n",
        "ErrMd_dT = 1.3\n",
        "\n",
        "# ==============================================\n",
        "# Nedagolla data\n",
        "\n",
        "N_w182 = -2.77\n",
        "ErrN_w182 = .18\n",
        "\n",
        "N_w183 = 0.09\n",
        "ErrN_w183 = .09\n",
        "\n",
        "N_dT = 7.8\n",
        "ErrN_dT = 2.8"
      ],
      "metadata": {
        "id": "XkeJElzu-hKK"
      },
      "execution_count": null,
      "outputs": []
    },
    {
      "cell_type": "markdown",
      "source": [
        "# Plot"
      ],
      "metadata": {
        "id": "1N3L3dVy5o4Y"
      }
    },
    {
      "cell_type": "code",
      "source": [
        "fig = plt.figure()\n",
        "\n",
        "ax = fig.add_subplot()\n",
        "# twin1 = ax.twinx()\n",
        "\n",
        "ax.tick_params(axis=\"y\",direction=\"in\")\n",
        "ax.tick_params(axis=\"x\",direction=\"in\")\n",
        "\n",
        "ax.set_xlabel('\\u03B5$^{183}$W')\n",
        "ax.set_ylabel('\\u03B5$^{182}$W')\n",
        "\n",
        "ax.errorbar(IC_w183, IC_w182, xerr = ErrIC_w183, yerr = ErrIC_w182, color = 'red', marker = 'D', markersize = '8', label = 'IC')\n",
        "ax.errorbar(IIAB_w183, IIAB_w182, xerr = ErrIIAB_w183, yerr = ErrIIAB_w182, color = 'red', marker = 's', markersize = '8', label = 'IIAB')\n",
        "# ax.errorbar(IIE_w183, IIE_w182, xerr = ErrIIE_w183, yerr = ErrIIE_w182, color = 'red', marker = 'o', markersize = '8', label = 'IIE')\n",
        "ax.errorbar(IIIAB_w183, IIIAB_w182, xerr = ErrIIIAB_w183, yerr = ErrIIIAB_w182, color = 'red', marker = 'o', markersize = '8', label = 'IIIAB')\n",
        "ax.errorbar(IIIE_w183, IIIE_w182, xerr = ErrIIIE_w183, yerr = ErrIIIE_w182, color = 'red', marker = 's', markersize = '8', label = 'IIIE')\n",
        "ax.errorbar(IVA_w183, IVA_w182, xerr = ErrIVA_w183, yerr = ErrIVA_w182, color = 'red', marker = '^', markersize = '8', label = 'IVA')\n",
        "\n",
        "ax.errorbar(IIC_w183, IIC_w182, xerr = ErrIIC_w183, yerr = ErrIIC_w182, color = 'blue', marker = '>', markersize = '8', label = 'IIC')\n",
        "ax.errorbar(IID_w183, IID_w182, xerr = ErrIID_w183, yerr = ErrIID_w182, color = 'blue', marker = 'v', markersize = '8', label = 'IID')\n",
        "ax.errorbar(IIF_w183, IIF_w182, xerr = ErrIIF_w183, yerr = ErrIIF_w182, color = 'blue', marker = 'o', markersize = '8', label = 'IIF')\n",
        "ax.errorbar(IIIF_w183, IIIF_w182, xerr = ErrIIIF_w183, yerr = ErrIIIF_w182, color = 'blue', marker = '^', markersize = '8', label = 'IIIF')\n",
        "ax.errorbar(IVB_w183, IVB_w182, xerr = ErrIVB_w183, yerr = ErrIVB_w182, color = 'blue', marker = 'D', markersize = '8', label = 'IVB')\n",
        "\n",
        "ax.errorbar(sirj_w183, sirj_w182, xerr = ErrSirj_w183, yerr = ErrSirj_w182, color = 'black', marker = 'p', markersize = '10', label = 'Sirjan')\n",
        "ax.errorbar(md_w183, md_w182, xerr = ErrMd_w183, yerr = ErrMd_w182, color = 'green', marker = 'p', markersize = '10', alpha = 0.7, label = 'Mont Dieu (UG)')\n",
        "ax.errorbar(N_w183, N_w182, xerr = ErrN_w183, yerr = ErrN_w182, color = 'orange', marker = 'p', markersize = '10', alpha = 1., label = 'Nedagolla (UG)')\n",
        "ax.legend(numpoints = 1, loc = 'best',fontsize = 7, markerscale =0.8)\n",
        "plt.savefig(\"Wtime.pdf\",format='pdf')\n",
        "plt.show()"
      ],
      "metadata": {
        "colab": {
          "base_uri": "https://localhost:8080/",
          "height": 280
        },
        "id": "BZ95Umdp5tXE",
        "outputId": "9e3e397b-5cf8-48ba-edd8-2a5580e6bef5"
      },
      "execution_count": null,
      "outputs": [
        {
          "output_type": "display_data",
          "data": {
            "text/plain": [
              "<Figure size 432x288 with 1 Axes>"
            ],
            "image/png": "[encoded data removed]"
          },
          "metadata": {
            "needs_background": "light"
          }
        }
      ]
    }
  ]
}